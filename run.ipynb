{
 "cells": [
  {
   "cell_type": "markdown",
   "metadata": {},
   "source": [
    "# RAG with Azure AI Search"
   ]
  },
  {
   "cell_type": "markdown",
   "metadata": {},
   "source": [
    "<img src=\"./architecture.png\">"
   ]
  },
  {
   "cell_type": "markdown",
   "metadata": {},
   "source": [
    "<img src=\"vector_embeddings.svg\" >\n"
   ]
  },
  {
   "cell_type": "markdown",
   "metadata": {},
   "source": [
    "### Installing Packages"
   ]
  },
  {
   "cell_type": "code",
   "execution_count": 3,
   "metadata": {},
   "outputs": [
    {
     "name": "stdout",
     "output_type": "stream",
     "text": [
      "Requirement already satisfied: openai in ./rag_solution/lib/python3.11/site-packages (1.60.2)\n",
      "Requirement already satisfied: anyio<5,>=3.5.0 in ./rag_solution/lib/python3.11/site-packages (from openai) (4.8.0)\n",
      "Requirement already satisfied: distro<2,>=1.7.0 in ./rag_solution/lib/python3.11/site-packages (from openai) (1.9.0)\n",
      "Requirement already satisfied: httpx<1,>=0.23.0 in ./rag_solution/lib/python3.11/site-packages (from openai) (0.28.1)\n",
      "Requirement already satisfied: jiter<1,>=0.4.0 in ./rag_solution/lib/python3.11/site-packages (from openai) (0.8.2)\n",
      "Requirement already satisfied: pydantic<3,>=1.9.0 in ./rag_solution/lib/python3.11/site-packages (from openai) (2.10.6)\n",
      "Requirement already satisfied: sniffio in ./rag_solution/lib/python3.11/site-packages (from openai) (1.3.1)\n",
      "Requirement already satisfied: tqdm>4 in ./rag_solution/lib/python3.11/site-packages (from openai) (4.67.1)\n",
      "Requirement already satisfied: typing-extensions<5,>=4.11 in ./rag_solution/lib/python3.11/site-packages (from openai) (4.12.2)\n",
      "Requirement already satisfied: idna>=2.8 in ./rag_solution/lib/python3.11/site-packages (from anyio<5,>=3.5.0->openai) (3.10)\n",
      "Requirement already satisfied: certifi in ./rag_solution/lib/python3.11/site-packages (from httpx<1,>=0.23.0->openai) (2024.12.14)\n",
      "Requirement already satisfied: httpcore==1.* in ./rag_solution/lib/python3.11/site-packages (from httpx<1,>=0.23.0->openai) (1.0.7)\n",
      "Requirement already satisfied: h11<0.15,>=0.13 in ./rag_solution/lib/python3.11/site-packages (from httpcore==1.*->httpx<1,>=0.23.0->openai) (0.14.0)\n",
      "Requirement already satisfied: annotated-types>=0.6.0 in ./rag_solution/lib/python3.11/site-packages (from pydantic<3,>=1.9.0->openai) (0.7.0)\n",
      "Requirement already satisfied: pydantic-core==2.27.2 in ./rag_solution/lib/python3.11/site-packages (from pydantic<3,>=1.9.0->openai) (2.27.2)\n",
      "\n",
      "\u001b[1m[\u001b[0m\u001b[34;49mnotice\u001b[0m\u001b[1;39;49m]\u001b[0m\u001b[39;49m A new release of pip is available: \u001b[0m\u001b[31;49m24.3.1\u001b[0m\u001b[39;49m -> \u001b[0m\u001b[32;49m25.0\u001b[0m\n",
      "\u001b[1m[\u001b[0m\u001b[34;49mnotice\u001b[0m\u001b[1;39;49m]\u001b[0m\u001b[39;49m To update, run: \u001b[0m\u001b[32;49mpip install --upgrade pip\u001b[0m\n",
      "Note: you may need to restart the kernel to use updated packages.\n",
      "Collecting python-dotenv\n",
      "  Using cached python_dotenv-1.0.1-py3-none-any.whl.metadata (23 kB)\n",
      "Using cached python_dotenv-1.0.1-py3-none-any.whl (19 kB)\n",
      "Installing collected packages: python-dotenv\n",
      "Successfully installed python-dotenv-1.0.1\n",
      "\n",
      "\u001b[1m[\u001b[0m\u001b[34;49mnotice\u001b[0m\u001b[1;39;49m]\u001b[0m\u001b[39;49m A new release of pip is available: \u001b[0m\u001b[31;49m24.3.1\u001b[0m\u001b[39;49m -> \u001b[0m\u001b[32;49m25.0\u001b[0m\n",
      "\u001b[1m[\u001b[0m\u001b[34;49mnotice\u001b[0m\u001b[1;39;49m]\u001b[0m\u001b[39;49m To update, run: \u001b[0m\u001b[32;49mpip install --upgrade pip\u001b[0m\n",
      "Note: you may need to restart the kernel to use updated packages.\n"
     ]
    }
   ],
   "source": [
    "%pip install openai\n",
    "%pip install python-dotenv\n",
    "%pip install requests\n",
    "\n"
   ]
  },
  {
   "cell_type": "markdown",
   "metadata": {},
   "source": [
    "### Loading variables from the .env file"
   ]
  },
  {
   "cell_type": "code",
   "execution_count": 4,
   "metadata": {},
   "outputs": [],
   "source": [
    "from openai import AzureOpenAI\n",
    "import os\n",
    "from dotenv import load_dotenv\n",
    "load_dotenv()\n",
    "\n",
    "service_endpoint = os.getenv(\"AZURE_SEARCH_SERVICE_ENDPOINT\")\n",
    "index_name = os.getenv(\"AZURE_SEARCH_INDEX_NAME\")\n",
    "key = os.getenv(\"AZURE_SEARCH_API_KEY\")"
   ]
  },
  {
   "cell_type": "markdown",
   "metadata": {},
   "source": [
    "### Creating an Azure OpenAI Client"
   ]
  },
  {
   "cell_type": "code",
   "execution_count": 5,
   "metadata": {},
   "outputs": [],
   "source": [
    "from openai import AzureOpenAI\n",
    "\n",
    "azure_openai_endpoint = os.getenv(\"AZURE_OPENAI_ENDPOINT\")  \n",
    "azure_openai_key = os.getenv(\"AZURE_OPENAI_KEY\")\n",
    "\n",
    "azure_openai_client = AzureOpenAI(\n",
    "    api_key=azure_openai_key,\n",
    "    api_version=\"2024-02-15-preview\",\n",
    "    azure_endpoint=azure_openai_endpoint\n",
    ")"
   ]
  },
  {
   "cell_type": "markdown",
   "metadata": {},
   "source": [
    "### Creating Embedding Generator Function"
   ]
  },
  {
   "cell_type": "code",
   "execution_count": 6,
   "metadata": {},
   "outputs": [],
   "source": [
    "def generate_embeddings(client, text):\n",
    "    embedding_model = os.getenv(\"EMBEDDING_ENGINE\")\n",
    "    \n",
    "    response = client.embeddings.create(\n",
    "        input=text,\n",
    "        model = embedding_model\n",
    "    )\n",
    "    \n",
    "    embeddings=response.model_dump()\n",
    "    return embeddings['data'][0]['embedding']\n",
    "    "
   ]
  },
  {
   "cell_type": "code",
   "execution_count": 21,
   "metadata": {},
   "outputs": [
    {
     "name": "stdout",
     "output_type": "stream",
     "text": [
      "[-0.022223221, -0.0070621325, 0.003302835, -0.033517417, -0.033778254, 0.028691951, -0.022888353, -0.021545047, -0.017293422, -0.014971982, 0.014932857, 0.008457605, 0.027779026, -0.016536998, 0.013335236, -0.0034169506, 0.010550813, 0.011887597, 0.007538158, -0.0159762, -0.012018016, -0.0047798185, 0.017019544, 0.0003959408, -0.0004915127, -0.0054579917, 0.004261407, -0.020019157, 0.00042793393, -0.029683128, 0.022197137, -0.021388546, -0.012520124, -0.016132701, -0.016536998, 0.0030843848, 0.0069643194, 0.0096313665, 0.012898336, 0.0040494776, 0.0177238, 0.0009691685, 0.02330569, -0.023266565, -0.0117245745, 0.0010588309, -0.03432601, 0.013041796, -0.041812, 0.010003057, 0.011665886, 0.004616796, -0.02381432, -0.031065559, -0.008842338, 0.01661525, -0.005109124, 0.01632833, 0.014046014, -0.020671247, 0.0064100428, -0.017945511, -0.02918754, -0.002526848, -0.0039679664, 0.016641332, -0.010466041, 0.027153019, -0.024505535, 0.015493654, -0.0020019158, 0.040768653, 0.009637888, -0.0177238, 0.03296966, 0.0127744395, -0.008209811, -0.001851935, 0.0059014126, -0.0009390093, 0.019732237, -0.017932469, 0.009527032, -0.0031985005, 0.010961629, 0.0129178995, 0.015689282, 0.008848859, -0.016823918, -0.023136146, -0.008379354, 0.01960182, 0.013204819, 0.00027754574, -0.0039907894, 0.017006502, -0.012194079, 0.03239582, -0.02184501, -0.032030653, -0.025927091, -0.007349052, 0.004183156, -0.018675853, -0.019758321, -0.0032131725, 0.0066969623, 0.021610256, 0.028978871, -0.017984636, -0.023123104, 0.044498608, -0.0074533867, -0.021101626, -0.025327168, -0.013628677, 0.010303019, -0.034691177, 0.015493654, -0.044472527, 0.030961225, 0.0062698433, 0.024036031, -0.006657837, 0.0351346, 0.010876858, -0.024596827, 0.007831599, -0.009853077, 0.0008277465, 0.0034788991, 0.015780574, 0.005327574, -0.0056014513, 0.0123440605, 0.019758321, -0.010635585, 0.02330569, -0.037925545, -0.011457218, 0.036386613, 0.014606812, 0.015584947, -0.035186768, -0.009892202, 0.009474865, 0.038890637, 0.012904857, 0.0039255805, 0.011463739, 0.014998065, -0.022105845, 0.0076033673, -0.019510526, 0.0054482105, -0.02678785, 0.00045687042, 0.010055224, 0.008177206, -0.02033216, 0.0137721365, -0.005171072, 0.022457972, 0.0015910992, -0.007753348, 0.028744118, -0.013348279, -0.019719196, 0.026761767, 0.012846169, -0.0025871664, 0.028352864, -0.024075156, 0.008457605, -0.0073751356, 0.031326395, -0.016889127, -0.018636728, -0.0028137676, -0.01785422, -0.011750658, 0.0010262263, -0.006266583, 0.01394168, -0.03753429, 0.008835817, -0.007877245, 0.03745604, -0.012474478, -0.012115829, 0.017045628, -0.015350194, -0.018388933, -0.0018144399, -0.6268409, -0.021479838, -0.01473723, -0.026266178, 0.005917715, 0.012898336, 0.021166835, -0.005621014, -0.0074533867, -0.04306401, -0.0060155285, 0.028405033, -0.003804944, -0.0075707627, 0.017671634, -0.03456076, -0.0034202111, 0.009266196, 0.016341371, 0.010648627, -0.0052591045, 0.003302835, 0.0018568258, 0.039516643, 0.010609501, -0.016863042, -0.008001142, -0.015298027, -0.0008057385, -0.0024290346, -0.043976936, 0.0058557666, 0.0137721365, -0.009018402, 0.03737779, -0.016797833, -0.013524342, 0.030361302, 0.0032376258, 0.028352864, -0.020501703, 0.0003651703, 0.025666256, -0.013302632, 0.007055612, -0.0017655331, 0.015924033, -0.006716525, 0.010648627, -0.03549977, 0.010733399, -0.010413874, -0.030439552, -0.0011321909, 0.014906773, -0.0013310784, 0.03876022, 0.0019774623, -0.0005045545, 0.026813934, 0.007127342, 0.027700774, -0.01626312, -0.012826607, -0.0121549545, -0.007055612, -0.016576122, -0.0005143358, 0.004095124, -0.015519737, 0.0065698046, 0.010576896, -0.017841177, 0.051958516, -0.009683534, 0.011300717, 0.0043722624, 0.0029066904, 0.01829764, -0.009637888, -0.01343305, -0.0022382983, -0.020058282, -0.008894505, -0.0064230845, -0.028405033, -0.019262733, -0.039673146, -0.0070490907, 0.025718423, 0.0031789378, 0.017580342, -0.0074468656, -0.008411959, -0.007785952, 0.04155116, 0.0018095492, -0.0039027575, -0.037508205, -0.016589165, -0.0006606485, -0.015128484, 0.014932857, -0.029396208, 0.018545434, -0.0052265, -0.02642268, -0.0038245067, 0.00069080765, -0.0072642807, -0.009650929, 0.034247756, -0.0054840753, -0.007629451, -0.009918286, -0.018793229, 0.016810875, 0.034065172, -4.6868954e-05, -0.0035669312, -0.0017590122, 0.0033810856, 0.035108514, -0.005184114, -0.0074012196, -0.003527806, 0.0008057385, 0.005904673, 0.0034756388, -0.002999613, -0.011431134, 0.009318364, 0.009885682, -0.030543886, -0.0046265773, -0.0064328657, 0.0066774, 0.0036386612, 0.0074468656, -0.013217861, -0.022523182, 0.015689282, 0.00443095, -0.024218615, 0.005467773, -0.030256968, -0.015037191, 0.014528561, -0.008431521, 0.0049395803, -0.013680845, -0.018506309, -0.013967764, 0.013733012, 0.019836573, 0.014254684, -0.01661525, -0.009826994, 0.0040820823, -0.0083467495, 0.0050015287, 0.019771364, -0.008438042, 0.0014614963, -0.0054840753, -0.014554645, 0.0075316373, 0.0014582358, 0.002592057, -0.017658591, 0.0026556358, -0.017710758, 0.0044831173, 0.009833515, 0.016106619, -0.016902167, 0.01074644, 0.029526627, 0.010081309, 0.0035832336, -0.009605283, 0.009468344, 0.0016709801, 0.01467202, 0.038003795, 0.023057895, -0.007440345, 0.014802439, -0.008757566, 0.0156240715, -0.022536224, -0.010752961, -0.010876858, 0.012943983, -0.0016237036, 0.018193306, 0.0037006098, 0.0026572659, 0.0072186342, 0.012702709, 0.013256986, 0.0031186196, 0.037664708, -0.00043160195, 0.012650542, -0.011450697, 0.027022602, -0.019862656, 0.043585684, 0.016145743, 0.0015438226, -0.055558052, 0.014841564, -0.001967681, 0.016380496, 0.004326616, -0.022901393, 0.005321053, -0.042125, 0.013824304, -0.014854606, 0.023188313, -0.0001096326, -0.012885295, -0.024022989, 0.011587636, 0.018597601, 0.020345202, -0.0019269254, 0.006054654, -0.012735314, 0.0030403687, 0.005904673, 0.00088032125, 0.056810066, 0.017554257, -0.0074142613, -0.009285759, 0.021766758, 0.019419234, 0.0021861312, 0.028378949, 0.030100465, 0.0026311823, 0.034743346, 0.0066839205, 0.021675466, -0.010133476, -0.008477167, 0.009611804, -0.015037191, -0.0016807615, -0.013087442, 0.0040494776, 0.020853832, -0.044368193, -0.021479838, 0.00057057856, -0.023188313, -0.006729567, 0.016941294, 0.021297254, 0.006498075, -0.009422698, 0.013459134, 0.011991932, 0.002142115, -0.013420008, -0.002743668, -0.009931328, -0.002737147, -0.009813951, 0.014515519, -0.021597214, 0.022901393, -0.0051449887, 0.020827748, 0.0077272644, 0.003180568, -0.008255457, 0.001829112, -0.03870805, 0.006136165, 0.014685063, -0.021179877, -0.015428445, -0.031561147, 0.026540056, -0.03549977, 0.023044854, 0.040481735, 0.001568276, 0.011405051, 0.0139155965, 0.020997291, -0.008379354, 0.030074382, -0.008222853, -0.03456076, -0.0013131459, -0.00047521046, -0.02230147, 0.007172988, -0.029604878, 0.023227438, 0.028613701, 0.018167222, -0.004264667, 0.024440326, -0.015402362, -0.0018796489, -0.0033289185, -0.0075185956, 0.0038571113, -0.012031057, -0.007349052, -0.001322112, -0.012696189, 0.02047562, -0.0114898225, 0.0026686776, 0.0018747582, -0.008294582, -0.0010425285, -0.0076490133, 0.031065559, -0.001220223, -0.003456076, 0.030178716, -0.025953174, -0.0034788991, -0.024531618, 0.0004275264, -0.021949343, -0.010492125, -0.021179877, 0.021923259, 0.008509772, -0.00987264, 0.004320095, 0.0018340026, -0.0120571405, 0.017384714, -0.036777865, -0.012833128, -0.025248917, 0.019862656, 0.015597988, 0.02613576, -0.004440732, 0.0059014126, 0.033386998, 0.012800523, -0.023357857, -0.0027420376, -0.0042581465, 0.010896421, 0.007753348, -0.013537385, 0.0030159154, 0.0015560493, -0.0021111409, 0.012141912, 0.017267339, 0.004610275, 0.003332179, 0.0038440693, -0.01677175, 0.0050439145, -0.04413344, -0.005203677, 0.010987713, -0.007929412, -0.018349808, 0.023827361, 0.0057025254, -0.018480225, -0.011965848, -0.0094879065, -0.0007486806, 0.048541564, -0.010035662, 0.0021355941, 0.014019931, -0.012976587, 0.0071860296, 0.040168732, -0.011092048, -0.025744505, -0.025261959, -0.0057416507, -0.0032490375, -0.013256986, 0.019119274, -0.021453755, -0.0022855748, -0.013641719, -0.012278851, 0.033673916, -0.017254297, 0.020566912, 0.014698104, -0.023436109, 0.026618306, -0.012526645, 0.0071534254, 0.015402362, -0.016602207, 0.0030240666, -0.0015218146, -0.0110594435, -0.006918673, -0.010126955, 0.037143037, -0.00061174174, 0.0015430076, 0.014789397, -0.00747947, 0.008601065, 0.016393539, 0.023396982, 0.02723127, -0.0026360732, -0.0040038317, -0.00980091, -0.04582887, -0.007877245, -0.025509754, -0.010668189, 0.003948404, -0.02678785, 0.028222447, -0.015558863, 0.0235274, 0.003332179, -0.01656308, 0.0064882934, -0.006550242, -0.0086336695, 0.031143809, -0.019784404, 0.0068404223, -0.018506309, 0.0039125388, 0.015558863, -0.028509367, 0.02955271, 0.03135248, -0.011046401, -0.009011881, -0.016589165, -0.053393114, -0.004297272, -0.015506696, 0.0045515867, 0.031561147, -0.015845783, -0.0284572, 0.008588023, -0.03868197, -0.024883747, 0.01591099, -0.012950503, -0.01960182, -0.009246633, -0.013902555, 0.007831599, -0.009266196, -0.008503251, -0.026331387, -0.01648483, 0.0021241826, 0.029317958, 0.0112029025, 0.0048841527, 0.037742957, 0.010720356, -0.023944737, 0.0013001041, -0.024270782, -0.008574981, -0.025796672, 0.004893934, 0.019732237, 0.022901393, 0.0048156832, 0.021362463, 0.004675484, -0.008196769, 0.003521285, -0.031039475, 0.02279706, -0.018245474, 0.007172988, 0.027987694, 0.021792842, 0.016928252, 0.013537385, -0.0025219573, 0.0022920957, -0.003144703, -0.028483283, 0.009031444, -0.013615635, -0.0093966145, -0.0037266933, 0.028065946, 0.002781163, -0.032421906, 0.012943983, 0.019653987, 0.0032213237, -0.001277281, -0.01591099, 0.030961225, -0.008268499, 0.022784019, -0.028300697, 0.02301877, 0.0068273805, -0.0018258515, -0.027622525, -0.027726859, 0.02723127, -0.0031903493, -0.011509385, 5.8840917e-05, 0.014189474, -0.0134852175, 0.011274633, -0.008307625, -0.009129257, -0.0082032895, -0.00428423, -0.017841177, -0.038655885, -0.0110594435, -0.0049395803, 0.014332934, -0.002367086, -0.0032637096, 0.019927865, 0.01778901, -0.014476393, 0.008307625, -0.004786339, 0.017110836, 0.020449536, 0.025614088, 0.033334833, -0.008327187, 0.002089948, -0.021388546, 0.014411185, -0.01829764, 0.019132314, 0.028300697, -0.014111224, -0.040977325, 0.02910929, -0.0016938032, 0.014567686, -0.026200969, 0.017606424, -0.00045034953, -0.009135778, -0.014541603, 0.014685063, -0.0118680345, 0.016902167, -0.00034825673, -0.00042874904, -0.011789784, -0.0030501501, -0.008809733, 0.035969272, -0.02359261, 0.027779026, 0.019510526, -0.016706541, -0.0074012196, -0.009840035, 0.0060220496, 0.020645164, 0.0021470056, 0.03998615, -0.018023763, 0.020710373, 0.028196363, 0.0400644, -0.005852506, 0.017684676, 0.015480612, 0.023201356, -0.012715751, 0.006781734, -0.013315674, -0.006550242, -0.00011401383, -0.0013702037, 0.0041766353, -0.015650155, -0.026566138, -0.0034821597, 0.00034947938, 0.025757547, 0.0056797024, -0.017241254, -0.010766002, -0.026918268, -0.017541217, -0.00039797855, 0.013524342, 0.03414342, -0.04220325, -0.013420008, 0.00041040903, -0.002888758, 0.006977361, -0.00406578, 0.016941294, 0.013993847, -0.017632509, -0.018193306, -0.0039614458, 0.031143809, 0.006237239, 0.007557721, -0.002627922, -0.026605263, 0.0126766255, -0.0008285616, -0.021232044, -0.01147678, 0.02476637, 0.003804944, -0.01924969, -0.015558863, 0.030074382, 0.0021975427, -0.0048091626, -0.02149288, -0.0040918635, 0.01968007, -0.021662423, 0.01880627, 0.01691521, -0.025953174, -0.0026197708, -0.0005693559, -0.022027593, 0.015741449, -0.0061166026, 0.0010294868, 0.018701935, -0.002810507, -0.01604141, -0.013015713, -0.011718054, 0.011874556, -0.0053993035, 0.034013003, 0.00145253, -0.023070937, 0.005047175, 0.00689911, -0.014711146, 0.01988874, -0.04168158, -0.03972531, -0.0012104417, -0.0072186342, -0.030543886, 0.0054840753, -0.0016057711, 0.04110774, -0.0034365132, -0.009598762, -0.012591855, -0.007055612, -0.021897176, 0.009246633, -0.02243189, 0.021219002, -0.006455689, 0.007492512, -0.025457587, 0.025275001, 0.005699265, -0.008327187, -0.004166854, 0.010648627, -0.0058981525, 0.009246633, 0.018741062, -0.016836958, -0.038655885, -0.004108166, 0.015780574, 0.0056829625, 0.01764555, 0.019993074, -0.035108514, -0.009540074, 0.001220223, -0.0131526515, 0.013563468, -0.000392069, 0.003491941, -0.023410024, 0.0036125774, -0.004522243, -0.0059209755, 0.007251239, -0.007818556, 0.03187415, 0.023944737, -0.0059014126, -0.0045515867, -0.024114281, -0.0042125, -0.00530149, 0.0027550794, 0.011946285, -0.03012655, 0.003325658, 0.008125039, -0.009598762, -0.01742384, 0.008405438, -0.021923259, 0.0120114945, 0.003020806, -0.0137721365, -0.0134852175, -0.025079373, -0.011215945, 0.0026963914, -0.0075120744, -0.027987694, 0.009135778, -0.022497099, 0.00096672314, 0.012787481, 0.005976403, -0.009976974, -0.010935546, 0.0027844235, 0.003527806, -0.011333321, 0.019836573, -0.02273185, -0.0009186315, 0.028274614, -0.017319506, 0.0034039088, -0.001954639, 0.010550813, 0.009911765, 0.0025219573, 0.22724026, 0.018780187, -0.012644022, 0.03565627, 0.022979645, 0.005184114, 0.029265791, 0.001582948, 0.018545434, 0.018975813, -0.0005656879, -0.010687752, -0.02119292, -0.00486459, 0.009833515, 0.0090640485, -0.04160333, -0.0026458544, -0.0072708013, -0.0024714204, 0.016315287, 0.024818538, 0.0010025881, -0.016654374, 0.018180264, 0.050993424, -0.0007144459, 0.006550242, 0.028065946, 0.017045628, -0.005777516, 0.0134852175, 0.017176045, 0.0025985779, 0.0076424927, 0.0011093678, 0.015806656, -0.02489679, 0.017828135, 0.020579955, 0.021949343, -0.013048317, 0.0068143387, -0.012930941, -0.0026817194, 0.0015731667, -0.020853832, 0.005337355, -0.013993847, 0.01619791, -0.031613313, -0.017371673, 0.020358244, 0.02707477, 0.0069577983, 0.011105089, 0.015950117, -0.011881077, -0.00892711, -0.01815418, -0.0031544846, 0.021336379, -0.012983108, 0.009853077, -0.003958185, 0.002779533, -0.0071469042, -0.0062241973, -0.0015584946, -0.014163391, 0.009468344, -0.022353638, -0.02230147, 0.008294582, -0.044707276, -0.013889513, -0.0027501888, 0.020240868, 0.014424226, 0.027466023, 0.0034952015, -0.01408514, 0.011933244, 0.024270782, -0.0034593365, 0.0023279607, 0.009305322, -0.006716525, 0.0073425313, 0.005131947, -0.008125039, 0.02200151, -0.025379336, -0.0017378194, -0.017332546, -0.0035538895, 0.015924033, 0.033673916, -0.0044342107, 0.009174904, -0.033334833, 0.032943577, 0.019549653, 0.019340985, 0.010668189, 0.041942418, -0.0039255805, 0.03356958, 0.0063057085, -0.008425, -0.0052330205, -0.014359018, 0.012044099, 0.003092536, -3.7011192e-05, -0.017893344, 0.016380496, -0.03273491, 0.024453368, -0.01604141, 0.034612928, -0.03500418, -0.0031495937, -0.010498646, -0.006501335, -0.035525855, -0.013178735, 0.015480612, -0.020084366, -0.02214497, 0.023488276, -0.0036647448, 0.017867262, -0.02446641, 0.009996537, 0.006846943, -0.022171054, 0.015728407, -0.003224584, -0.008705399, 0.0036777866, -0.014789397, -0.008555418, 0.0193149, 0.0060676956, -0.032552324, 0.021988468, -0.0014777986, 0.0019269254, -0.0084445635, -0.01748905, -0.01807593, -0.009266196, -0.003433253, 0.023840403, 0.00355715, -0.038212463, -0.021518964, -0.012076703, -0.0031903493, -0.048854567, -0.00704257, 0.036621362, -0.019980032, -0.015011108, -0.012467957, -0.16401362, 0.020501703, 0.016823918, -0.023149189, 0.025170667, 0.021871092, 0.02185805, 0.030961225, -0.016354412, -0.01938011, 0.0022268868, -0.015937075, -0.009859598, 0.0056275353, -0.017215172, -0.007740306, -0.014985024, 0.010492125, 0.014124265, 0.034456424, 0.0025757547, 0.0013180366, 0.0013074401, -0.0235274, 0.00051963405, 0.01974528, -0.01103988, 0.0026670473, -0.0012234835, -0.002184501, -0.021518964, -0.008653232, -0.00020551018, -0.022614475, 0.02788336, -0.008835817, -0.034039088, -0.0067491294, -0.034952015, 0.04045565, 0.0009161862, 0.003579973, 0.016015327, -0.0036027962, -0.016093576, 0.012331018, 0.013759095, -0.014019931, 0.019106232, -0.012754877, 0.03330875, -0.021010334, -0.010622543, -0.00042671128, -0.0069969236, 0.02650093, 0.0025235876, 0.01023781, 0.009566157, 0.024753328, -0.0116332825, -0.0193149, 0.006198114, -0.0046428796, -0.013165694, -0.021923259, -0.02707477, 0.008679315, -0.021988468, 0.003769079, 0.015558863, -0.03440426, -0.009044486, -0.029370125, -0.010655148, -0.018571518, -0.010303019, -0.0065991487, -0.008196769, -0.0037560372, 0.015193692, 0.017345589, -0.015311069, 0.0033012046, -0.018310681, 0.025496712, 0.0057840366, -0.0034886806, 0.0072381967, -0.001089805, 0.018467184, -0.0032686002, -0.01743688, -0.0267096, 0.025953174, 0.030152632, -0.010100871, 0.0119136805, 0.0049624033, 0.0074664284, 0.019940907, -0.01632833, -0.031039475, 0.029865714, 0.01872802, 0.022784019, -0.008692357, 0.036047526, 0.031848066, 0.009853077, -0.014828523, 0.015011108, 0.0047830786, 0.019471401, 0.010368228, 0.028378949, 0.010485604, -0.015780574, -0.025105458, -0.0054775546, 0.0403774, -0.0025235876, 0.011718054, 0.0067426087, -0.020501703, -0.020710373, -0.08351966, -0.0028773462, 0.02519675, 0.024257742, 0.016015327, 0.014254684, 0.008066351, 0.031248143, -0.021232044, 0.013204819, -0.0006940681, -0.03505635, 0.0017899865, 0.0017736843, 0.009051006, -0.0070164865, 0.013589552, -0.011007276, -0.033204414, 0.010276935, -0.02707477, -0.0020866874, -0.0130091915, -0.012220163, -0.015454529, -0.014841564, -0.037821207, 0.009820472, 0.01982353, 0.0023850184, -0.0067360876, -0.037508205, 0.011496344, -0.0033843461, -0.028352864, -0.014854606, -0.03521285, -0.007368615, 0.024870705, -0.00878365, 0.0035115036, -0.002367086, 0.010550813, -0.024075156, -0.006018789, 0.00088032125, -0.018597601, 0.001488395, 0.008470647, -0.019184481, -0.013954722, -0.023618693, -0.0027469283, -0.020306077, 0.008046788, 0.006918673, -0.012754877, -0.011581115, -0.026240094, 0.014345976, 0.0017622727, 0.02098425, -0.01459377, 0.0015454529, 0.033282664, -0.017019544, -0.020149576, -0.018454142, 0.026813934, 0.0015617551, 0.009422698, 0.0015250751, -0.016954334, -0.0403774, -0.020645164, -0.0034658574, -0.026696557, 0.0041342494, -0.0061622486, -0.012930941, -0.0051775933, -0.0013555317, -0.010459521, -0.015480612, -0.0046135355, 0.010198684, -0.02541846, -0.011163778, 0.02119292, -0.025574962, -0.0029816807, 0.022627516, 0.030100465, 0.020149576, -0.0009707987, -0.0039842688, -0.014945898, 0.0019578997, 0.013185256, 0.041185994, -0.01960182, -0.002257861, -0.09431827, -0.0013539015, 0.003928841, -0.00067858095, 0.022979645, 0.005099342, 0.031065559, -0.009500949, 0.034769427, -0.02287531, -0.021805882, -0.012207122, 0.0022904654, -0.02330569, -0.030361302, -0.016184868, 0.026566138, 0.03260449, 0.027466023, 0.010087829, -0.013126568, -0.009813951, -0.006582847, 0.018193306, -0.03818638, 0.036177944, -0.012317977, -0.0034365132, -0.023253523, 0.0071208207, 0.014776355, -0.012780961, -0.012598375, 0.029657045, 0.0068012965, -0.02934404, 0.0008200029, 0.020045241, 0.037951626, 0.042594507, 0.0018894302, -0.02031912, 0.0069382354, 0.0010751331, -0.0027338865, 0.0015658307, 0.0014998065, 0.01619791, 0.036856115, 0.00071322324, 0.00871844, 0.008379354, -0.003027327, -0.017397756, 0.008438042, -0.026761767, -0.00092352217, -0.011176819, 0.010785566, -0.013876471, 0.04551587, 0.004277709, 0.027335605, -0.0004189677, 0.027153019, 0.0032441467, 0.0029490762, -0.013459134, 0.009344447, -0.035395436, -0.040559985, 0.009833515, 0.018454142, -0.0028219186, -0.008366312, 0.012161475, -0.0021437453, 0.008164165, -0.005350397, 0.019980032, 0.00069243787, 0.022692725, -0.0070816954, 0.015558863, 0.026970435, 0.018884521, -0.021479838, -0.010316061, -0.016002284, 0.0017524913, -0.03200457, 0.02890062, -0.0115354685, -0.024192533, -0.0319524, -0.012670105, 0.001997025, -0.026240094, 0.0013995478, 0.0045418055, 0.012748356, 0.009051006, -0.00856846, -0.0075120744, -0.047419973, 0.0268661, 0.00017361892, -0.019784404, 0.012741835, 0.03174373, 0.022171054, -0.012324497, 0.025496712, 0.01270923, -0.011568073, 0.0055655865, -0.017880302, -0.044994198, -0.031404644, 0.017332546, -0.0038636322, 0.017893344, 0.0035082432, 0.0018682373, 0.018988855, -0.016797833, -0.010296498, -0.008138081, -0.0029213624, 0.013928639, -0.0030680825, 0.0004931429, -0.022784019, -0.019627903, -0.0025822755, 0.0127744395, 0.014006889, -0.0037201724, -0.011268112, 0.12165388, 0.017828135, -0.013863429, 0.008744525, -0.010609501, 0.018701935, 0.010668189, -0.0059861843, -0.0029930922, -0.029526627, 0.038368963, -0.0042059794, -0.008855379, -0.0053699594, -0.019419234, -0.007023007, 0.0027208447, 0.02910929, -0.021701548, 0.010589939, 0.010635585, -0.02882237, -0.0015870236, 0.015063275, 0.007283843, 0.011320279, 0.014985024, -0.009481386, 0.0021355941, -0.017032586, -0.014971982, -0.007036049, -0.026761767, -0.0022611215, 0.012389706, -0.019575736, -0.009598762, -0.014332934, 0.004597233, 0.011998452, -0.00493632, 0.008685837, -0.033491332, -0.023449149, -0.010211727, 0.01960182, 0.0037788604, 0.0071534254, -0.0018258515]\n"
     ]
    }
   ],
   "source": [
    "user_query = \"Me informe dados sobre o curso técnico de soldagem?\"\n",
    "vectorised_user_query = generate_embeddings(azure_openai_client, user_query)\n",
    "print(vectorised_user_query)\n"
   ]
  },
  {
   "cell_type": "code",
   "execution_count": 22,
   "metadata": {},
   "outputs": [],
   "source": [
    "context=[]"
   ]
  },
  {
   "cell_type": "markdown",
   "metadata": {},
   "source": [
    "### Sending API call to the Search Index"
   ]
  },
  {
   "cell_type": "code",
   "execution_count": 23,
   "metadata": {},
   "outputs": [
    {
     "name": "stdout",
     "output_type": "stream",
     "text": [
      "{'chunk': 'média anual entre 2018 e 2023, na área \\nde Metalmecânica – Soldagem.  \\n\\nCURSO \\nMATRÍCULAS \\n\\n2010 \\nMATRÍCULAS \\n\\n2023 \\nPART.% \\n\\n2023 \\nEVOL. \\n\\nANUAL \\nSOLDADOR AO ARCO ELÉTRICO E \\nOXIGÁS \\n\\n0 2.401 37,05% - \\n\\nSOLDADOR AO ARCO ELÉTRICO - \\nMAG \\n\\n0 797 12,30% - \\n\\nSOLDADOR AO ARCO ELÉTRICO - \\nELETRODO REVESTIDO \\n\\n0 720 11,11% - \\n\\nSOLDAGEM ELETRODO REVESTIDO \\nEM AÇO CARBONO \\n\\n251 387 5,97% 3,14% \\n\\nSOLDADOR AO ARCO ELÉTRICO - \\nTIG \\n\\n0 350 5,40% - \\n\\nSOLDAGEM AO ARCO ELÉTRICO \\nTIG NAS POSIÇÕES PLANA, \\nHORIZONTAL E VERTICAL \\n\\n0 197 3,04% - \\n\\nSOLDAGEM AO ARCO ELÉTRICO \\nMAG NAS POSIÇÕES PLANA, \\nHORIZONTAL E VERTICAL \\n\\n0 189 2,92% - \\n\\nINSPEÇÃO DE QUALIDADE EM \\nSOLDAGEM \\n\\n0 179 2,76% - \\n\\nSOLDAGEM AO ARCO ELÉTRICO \\nELETRODO REVESTIDO NA \\nPOSIÇÃO PLANA \\n\\n0 112 1,73% - \\n\\nSOLDAGEM ELETRODO REVESTIDO \\n1F E 1G \\n\\n25 85 1,31% 9,13% \\n\\nSOLDAGEM MAG EM AÇO \\nCARBONO \\n\\n345 83 1,28% -9,68% \\n\\n\\n\\n \\n \\n\\n  51 \\n\\nCURSO \\nMATRÍCULAS \\n\\n2010 \\nMATRÍCULAS \\n\\n2023 \\nPART.% \\n\\n2023 \\nEVOL. \\n\\nANUAL \\nSOLDAGEM TIG EM ALUMÍNIO 0 79 1,22% - \\nSEGURANÇA EM INSTALAÇÕES E \\nSERVIÇOS EM ELETRICIDADE - NR 10 \\n\\n0 78 1,20% - \\n\\nSOLDAGEM AO ARCO ELÉTRICO \\nMAG EM TUBULAÇÃO \\n\\n0 71 1,10% - \\n\\nOPERAÇÃO E PROGRAMAÇÃO DE \\nROBÔ DE SOLDAGEM \\n\\n0 62 0,96% - \\n\\nDEMAIS CURSOS 8.485 691 10,66% -16,40% \\nTOTAL 9.106 6.481  -2,40% \\n\\nFonte: Elaborado pela Inteligência de Mercado do SENAI-SP, a partir de dados internos. \\n \\n\\nAbaixo apresentamos a participação das unidades SENAI no total de matrículas em \\ncursos de Formação Inicial e Continuada da área. São consideradas unidades com \\nparticipação em pelo menos 2% do total de matrículas nesta modalidade e área, em \\n2023. \\n\\n \\nTabela 3 Participação das unidades SENAI em matrículas em Cursos de Formação \\nInicial e Continuada (FIC) da área de Metalmecânica – Soldagem, em 2023  \\nCidade/CFP Participação Nas Matrículas (%) \\n\\nPiracicaba (CFP 5.10) 7,99% \\n\\nOsasco (CFP 1.19) 4,20% \\n\\nSão José dos Campos (CFP 3.02) 4,01% \\n\\nSuzano (CFP 1.24) 3,78% \\n\\nSão Paulo (CFP 1.12) 2,85% \\n\\nRibeirão Preto (CFP 6.02) 2,75%', 'score': 0.874487}\n",
      "{'chunk': 'ao Arco Elétrico e Oxigás \\no Soldador ao Arco Elétrico - MAG \\no Soldador ao Arco Elétrico - Eletrodo Revestido \\no Soldagem em Eletrodo Revestido em Aço Carbono \\n\\n• Superiores em Tecnologia: crescimento de 2,71% a.a. em \"Engenharia de \\nSoldagem\". \\n\\nDestaque: Crescimento expressivo nos níveis CAI e CT, com retração na FIC. \\n \\nFABRICAÇÃO MECÂNICA \\n\\n• Aprendizagem Industrial: retração geral de 3,36% a.a. \\no \"Operador de Máquinas de Usinagem de Madeira Convencionais e a \\n\\nCNC\" cresceu 13,19% a.a. \\no \"Operador de Produção Industrial\" aumentou 6,96% a.a. \\n\\n• Curso Técnico: crescimento de 4,23% a.a. no CT em Fabricação Mecânica \\n• Formação Inicial e Continuada: retração de 2,55% a.a., mas destaques: \\n\\no \"Caldeireiro Montador\" cresceu 11,83% a.a. \\no \"Operador de Centro de Usinagem CNC\" cresceu 20,67% a.a. \\n\\n• Superiores em Tecnologia: crescimento geral de 1,64% a.a. \\nDestaque: Operador de Centro de Usinagem CNC com crescimento mais elevado \\n(20,67% a.a.). \\n \\nMETALURGIA \\n\\n• Aprendizagem Industrial: retração de 1,71% a.a. \\n• Curso Técnico: retração de 7,31% a.a. \\n• Formação Inicial e Continuada: retração acentuada de 17,77% a.a., porém \\n\\n\"Operador de Ensaios Não Destrutivos\" cresceu 8,89% a.a. \\n• Superiores em Tecnologia: retração de 4,97% a.a. \\n\\nDestaque: Setor enfrenta retração em todos os níveis, mas há crescimento \\nespecífico em Ensaios Não Destrutivos. \\n \\nMECÂNICA \\n\\n• Aprendizagem Industrial: retração geral de 5,34% a.a., mas \"Mecânico de \\nManutenção\" teve forte crescimento de 22,62% a.a. \\n\\n• Curso Técnico: retração de 1,56% a.a., com \"Técnico em Eletromecânica\" \\ncrescendo 8,22% a.a. \\n\\n\\n\\n \\n\\n107 \\n \\n\\n• Formação Inicial e Continuada: retração leve de 0,41% a.a., cursos como \\n\"Leitura e Interpretação de Desenho Técnico Mecânico\" e \"Metrologia \\nAplicada\" se destacam (apresentaram crescimento). \\n\\n• Superiores em Tecnologia: crescimento geral de 4,88% a.a., com \"Manutenção \\nIndustrial\" (2,03% a.a.) e \"Mecânica de Precisão\" (2,90% a.a.).', 'score': 0.87318516}\n",
      "{'chunk': 'anúncios de emprego \\nencontram-se empresas como Alamo Engenharia, Projecook, Cinpal, AM Fornos, \\nWutxl e Raízen. \\n \\nDe maneira geral, identificou-se uma demanda significativa para Ajustadores \\nMecânicos, para ajustagem e montagem de componentes e equipamentos \\nmecânicos, manutenção preventiva e corretiva de máquinas operatrizes, ajustes \\nmecânicos e regulagens durante o processo de produção, operação de tornos \\nmecânicos, fresadoras, furadeiras, esmerilhadeiras e lixadeiras, medição e controle \\nde medidas, leitura e intepretação de desenhos técnicos e especificações \\nmecânicas, realização de solda elétrica em reparos e montagens, monitoramento \\nda qualidade de produtos e processos mecânicos, dentre outras atividades. Essas \\nvagas são voltadas para profissionais de ensino médio, com curso técnico em \\najustagem mecânica ou mecânica industrial. Cursos complementares como \\nmetrologia, leitura e interpretação de desenho técnico, pneumática e mecânica \\nindustrial e soldagem também são mencionados como desejáveis em grande parte \\ndas vagas. \\n \\n\\n \\n3 A busca de anúncios online de vagas de emprego foi orientada pelos títulos das ocupações \\nprevistas nos itinerários formativos e catálogos de cursos do Departamento Nacional, \\nconforme apresentado no Anexo (Tabela A1) deste estudo. \\n\\n\\n\\n \\n \\n\\n  88 \\n\\nOutra posição muito demandada é para Soldadores4. As principais funções \\nprevistas incluem a execução de solda elétrica, MIG, TIG e solda com acetileno, \\naplicação de técnicas de soldagem plástica, manutenção de equipamentos de \\nsoldagem, soldagem em tubulações e revestimentos de aço carbono e inox, \\nmontagem, desmontagem e reparos de estruturas metálicas e processos \\nindustriais, manuseio de ferramentas rotativas e de corte, leitura e interpretação de \\ndesenhos técnicos e simbologias de solda. De maneira geral, exige-se formação de \\nnível fundamental ou médio, com cursos de solda e cursos complementares na \\nárea.', 'score': 0.86915773}\n"
     ]
    }
   ],
   "source": [
    "import requests\n",
    "import json\n",
    "\n",
    "\n",
    "url = f\"{service_endpoint}/indexes/{index_name}/docs/search?api-version=2023-11-01\"\n",
    "    \n",
    "headers = {\n",
    "        \"Content-Type\": \"application/json\",\n",
    "        \"api-key\": key\n",
    "    }\n",
    "    \n",
    "body =   {\n",
    "        \"count\": True,\n",
    "        \"select\": \"chunk\",\n",
    "        \"vectorQueries\": [\n",
    "            {\n",
    "                \"vector\": vectorised_user_query,\n",
    "                \"k\": 3,\n",
    "                \"fields\": \"text_vector\",\n",
    "                \"kind\": \"vector\"\n",
    "            }\n",
    "        ]\n",
    "    }\n",
    "    \n",
    "response = requests.post(url, headers=headers, data=json.dumps(body))\n",
    "documents = response.json()['value']\n",
    "\n",
    "for doc in documents:\n",
    "    context.append(dict(\n",
    "        {\n",
    "            \"chunk\": doc['chunk'],\n",
    "            \"score\": doc['@search.score']\n",
    "            \n",
    "        }\n",
    "    ))\n",
    "    \n",
    "for doc in context:\n",
    "    print(doc)\n",
    "\n"
   ]
  },
  {
   "cell_type": "markdown",
   "metadata": {},
   "source": [
    "### Calling GPT Engine for Summarisation"
   ]
  },
  {
   "cell_type": "code",
   "execution_count": 24,
   "metadata": {},
   "outputs": [
    {
     "name": "stdout",
     "output_type": "stream",
     "text": [
      "O curso técnico de soldagem oferece diversas oportunidades de aprendizado e desenvolvimento na área de Metalmecânica. De acordo com os dados disponíveis, podemos observar as seguintes informações sobre as matrículas nos cursos relacionados à soldagem:\n",
      "\n",
      "- Em 2023, os cursos com maior número de matrículas foram:\n",
      "  - Soldador ao Arco Elétrico e Oxigás: 2.401 matrículas, representando 37,05% do total.\n",
      "  - Soldador ao Arco Elétrico - MAG: 797 matrículas, representando 12,30% do total.\n",
      "  - Soldador ao Arco Elétrico - Eletrodo Revestido: 720 matrículas, representando 11,11% do total.\n",
      "  - Soldagem Eletrodo Revestido em Aço Carbono: 387 matrículas, representando 5,97% do total.\n",
      "\n",
      "Além disso, é importante destacar que o curso de Soldagem Eletrodo Revestido em Aço Carbono apresentou um crescimento de 3,14% ao ano. No entanto, é válido ressaltar que essas informações se referem à média anual entre 2018 e 2023.\n",
      "\n",
      "No que se refere à participação das unidades SENAI nas matrículas em cursos de Formação Inicial e Continuada (FIC) da área de Metalmecânica - Soldagem em 2023, as seguintes unidades apresentaram destaque:\n",
      "- Piracicaba (CFP 5.10): 7,99% de participação nas matrículas.\n",
      "- Osasco (CFP 1.19): 4,20% de participação nas matrículas.\n",
      "- São José dos Campos (CFP 3.02): 4,01% de participação nas matrículas.\n",
      "- Suzano (CFP 1.24): 3,78% de participação nas matrículas.\n",
      "- São Paulo (CFP 1.12): 2,85% de participação nas matrículas.\n",
      "- Ribeirão Preto (CFP 6.02): 2,75% de participação nas matrículas.\n",
      "\n",
      "Essas são as informações disponíveis no banco de dados sobre o curso técnico de soldagem. Caso você tenha alguma dúvida específica ou precise de mais informações, por favor, me informe.\n"
     ]
    }
   ],
   "source": [
    "system_prompt = f\"\"\"\"Você deve atuar como um chatbot especializado em fornecer respostas baseadas em um banco de dados de avaliações de estudos de mercado, armazenadas na Solução de Pesquisa de IA do Azure. Suas respostas devem ser exclusivamente baseadas no conteúdo do banco de dados fornecido, sem incluir informações adicionais que não estejam no contexto. Caso não haja uma resposta disponível para a consulta, informe educadamente ao usuário.\n",
    "\n",
    "O contexto será fornecido como uma lista de objetos, cada um representando uma avaliação de estudo de mercado. Cada objeto contém as seguintes informações:\n",
    "\n",
    "\"chunk\": \"Conteúdo da revisão do estudo.\"\n",
    "\"score\": \"Pontuação de relevância da revisão.\"\n",
    "\n",
    "A lista contém as três melhores correspondências com base na similaridade de cosseno entre os embeddings da consulta do usuário e as descrições das avaliações.\n",
    "\n",
    "Por favor, forneça respostas de forma profissional e natural, sem que o usuário perceba que o sistema está utilizando uma abordagem de recuperação automática de informações. O objetivo é manter uma conversa fluida, como se estivesse interagindo com um especialista humano.\"\"\"\n",
    "\n",
    "user_prompt = f\"\"\" the user query is: {user_query}\n",
    "the context is : {context}\"\"\"\n",
    "\n",
    "chat_completions_response = azure_openai_client.chat.completions.create(\n",
    "    model = os.getenv(\"GPT_ENGINE\"),\n",
    "    messages = [\n",
    "        {\"role\": \"system\", \"content\": system_prompt},\n",
    "        {\"role\": \"user\", \"content\": user_prompt}\n",
    "    ],\n",
    "    temperature=0.7\n",
    ")\n",
    "\n",
    "print(chat_completions_response.choices[0].message.content)\n",
    "\n"
   ]
  }
 ],
 "metadata": {
  "kernelspec": {
   "display_name": "Python 3",
   "language": "python",
   "name": "python3"
  },
  "language_info": {
   "codemirror_mode": {
    "name": "ipython",
    "version": 3
   },
   "file_extension": ".py",
   "mimetype": "text/x-python",
   "name": "python",
   "nbconvert_exporter": "python",
   "pygments_lexer": "ipython3",
   "version": "3.11.11"
  }
 },
 "nbformat": 4,
 "nbformat_minor": 2
}
